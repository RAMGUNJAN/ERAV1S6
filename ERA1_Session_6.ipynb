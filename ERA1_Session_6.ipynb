{
  "cells": [
    {
      "cell_type": "markdown",
      "metadata": {
        "id": "view-in-github",
        "colab_type": "text"
      },
      "source": [
        "<a href=\"https://colab.research.google.com/github/RAMGUNJAN/ERAV1S6/blob/main/ERA1_Session_6.ipynb\" target=\"_parent\"><img src=\"https://colab.research.google.com/assets/colab-badge.svg\" alt=\"Open In Colab\"/></a>"
      ]
    },
    {
      "cell_type": "code",
      "execution_count": 72,
      "metadata": {
        "id": "0m2JWFliFfKT"
      },
      "outputs": [],
      "source": [
        "from __future__ import print_function\n",
        "import torch\n",
        "import torch.nn as nn\n",
        "import torch.nn.functional as F\n",
        "import torch.optim as optim\n",
        "from torchvision import datasets, transforms"
      ]
    },
    {
      "cell_type": "code",
      "execution_count": 106,
      "metadata": {
        "colab": {
          "base_uri": "https://localhost:8080/",
          "height": 123
        },
        "id": "h_Cx9q2QFgM7",
        "outputId": "73679f8a-bd7d-44e4-846d-801601ce0f7a"
      },
      "outputs": [
        {
          "output_type": "execute_result",
          "data": {
            "text/plain": [
              "'\\n!pip install torchsummary\\nfrom torchsummary import summary\\nimport torch\\nimport torch.nn as nn\\nimport torch.nn.functional as F\\n\\n# Define the Net class\\nclass Net(nn.Module):\\n    def __init__(self):\\n        super(Net, self).__init__()\\n\\n        self.conv1 = nn.Conv2d(1, 8, 3, padding=1)  \\n        self.bn1 = nn.BatchNorm2d(8)\\n        self.dropout1 = nn.Dropout(0.25)\\n\\n        self.conv2 = nn.Conv2d(8, 16, 3, padding=1)\\n        self.bn2 = nn.BatchNorm2d(16)\\n        self.dropout2 = nn.Dropout(0.25)\\n\\n        self.pool1 = nn.MaxPool2d(2, 2)\\n\\n        self.conv3 = nn.Conv2d(16, 32, 3, padding=1)\\n        self.bn3 = nn.BatchNorm2d(32)\\n        self.dropout3 = nn.Dropout(0.25)\\n\\n        self.conv4 = nn.Conv2d(32, 64, 3, stride=2, padding=1)\\n        self.bn4 = nn.BatchNorm2d(64)\\n        self.dropout4 = nn.Dropout(0.25)\\n\\n        self.pool2 = nn.MaxPool2d(2, 2)\\n\\n        self.conv5 = nn.Conv2d(64, 128, 3)\\n        self.bn5 = nn.BatchNorm2d(128)\\n        self.dropout5 = nn.Dropout(0.25)\\n\\n        self.conv6 = nn.Conv2d(128, 256, 3)\\n        self.conv7 = nn.Conv2d(256, 10, 3)\\n\\n    def forward(self, x):\\n        x = self.conv1(x)\\n        x = self.bn1(x)\\n        x = F.relu(x)\\n        x = self.dropout1(x)\\n\\n        x = self.conv2(x)\\n        x = self.bn2(x)\\n        x = F.relu(x)\\n        x = self.dropout2(x)\\n\\n        x = self.pool1(x)\\n\\n        x = self.conv3(x)\\n        x = self.bn3(x)\\n        x = F.relu(x)\\n        x = self.dropout3(x)\\n\\n        x = self.conv4(x)\\n        x = self.bn4(x)\\n        x = F.relu(x)\\n        x = self.dropout4(x)\\n\\n        x = self.pool2(x)\\n\\n        x = self.conv5(x)\\n        x = self.bn5(x)\\n        x = F.relu(x)\\n        x = self.dropout5(x)\\n\\n        x = self.conv6(x)\\n        x = F.relu(x)\\n\\n        x = self.conv7(x)\\n\\n        x = x.view(-1, 10)\\n        return F.log_softmax(x)\\n                                       '"
            ],
            "application/vnd.google.colaboratory.intrinsic+json": {
              "type": "string"
            }
          },
          "metadata": {},
          "execution_count": 106
        }
      ],
      "source": [
        "class Net(nn.Module):\n",
        "    def __init__(self, in_channels=1):\n",
        "        super(Net, self).__init__()\n",
        "\n",
        "        self.conv1 = nn.Conv2d(1, 5, 3, padding=1)\n",
        "        self.bn1 = nn.BatchNorm2d(5)\n",
        "        self.dropout1 = nn.Dropout(0.25)\n",
        "\n",
        "        self.conv2 = nn.Conv2d(5, 10, 3, padding=1)\n",
        "        self.bn2 = nn.BatchNorm2d(10)\n",
        "        self.dropout2 = nn.Dropout(0.25)\n",
        "\n",
        "        self.pool1 = nn.MaxPool2d(2,2)\n",
        "        self.conv22 = nn.Conv2d(10, 5, 1)\n",
        "\n",
        "        self.conv3 = nn.Conv2d(5, 10, 3, padding=1)\n",
        "        self.bn3 = nn.BatchNorm2d(10)\n",
        "        self.dropout3 = nn.Dropout(0.25)\n",
        "\n",
        "        self.conv4 = nn.Conv2d(10, 20, 3, padding=1)\n",
        "        self.bn4 = nn.BatchNorm2d(20)\n",
        "        self.dropout4 = nn.Dropout(0.25)\n",
        "\n",
        "        self.pool2 = nn.MaxPool2d(2,2)\n",
        "        self.conv44 = nn.Conv2d(20, 10, 1)\n",
        "\n",
        "        self.conv5 = nn.Conv2d(10, 20, 3)\n",
        "        self.bn5 = nn.BatchNorm2d(20)\n",
        "        self.dropout5 = nn.Dropout(0.25)\n",
        "\n",
        "        self.conv6 = nn.Conv2d(20, 40, 3)\n",
        "        self.conv7 = nn.Conv2d(40, 10, 3)\n",
        "\n",
        "    def forward(self, x):\n",
        "        x = self.conv1(x)\n",
        "        x = self.bn1(x)\n",
        "        x = F.relu(x)\n",
        "        x = self.dropout1(x)\n",
        "\n",
        "        x = self.conv2(x)\n",
        "        x = self.bn2(x)\n",
        "        x = F.relu(x)\n",
        "        x = self.dropout2(x)\n",
        "\n",
        "        \n",
        "        x = self.pool1(x)\n",
        "        x = self.conv22(x)\n",
        "\n",
        "        x = self.conv3(x)\n",
        "        x = self.bn3(x)\n",
        "        x = F.relu(x)\n",
        "        x = self.dropout3(x)\n",
        "\n",
        "        x = self.conv4(x)\n",
        "        x = self.bn4(x)\n",
        "        x = F.relu(x)\n",
        "        x = self.dropout4(x)\n",
        "\n",
        "        x = self.pool2(x)\n",
        "        x = self.conv44(x)\n",
        "\n",
        "        x = self.conv5(x)\n",
        "        x = self.bn5(x)\n",
        "        x = F.relu(x)\n",
        "        x = self.dropout5(x)\n",
        "\n",
        "        x = self.conv6(x)\n",
        "        x = F.relu(x)\n",
        "\n",
        "        x = self.conv7(x)\n",
        "\n",
        "        x = x.view(-1, 10)\n",
        "        return F.log_softmax(x)\n",
        "\n",
        "\n",
        "\n",
        "\n",
        "\n",
        "\n",
        "\n",
        "                          \n",
        "\"\"\"\n",
        "!pip install torchsummary\n",
        "from torchsummary import summary\n",
        "import torch\n",
        "import torch.nn as nn\n",
        "import torch.nn.functional as F\n",
        "\n",
        "# Define the Net class\n",
        "class Net(nn.Module):\n",
        "    def __init__(self):\n",
        "        super(Net, self).__init__()\n",
        "\n",
        "        self.conv1 = nn.Conv2d(1, 8, 3, padding=1)  \n",
        "        self.bn1 = nn.BatchNorm2d(8)\n",
        "        self.dropout1 = nn.Dropout(0.25)\n",
        "\n",
        "        self.conv2 = nn.Conv2d(8, 16, 3, padding=1)\n",
        "        self.bn2 = nn.BatchNorm2d(16)\n",
        "        self.dropout2 = nn.Dropout(0.25)\n",
        "\n",
        "        self.pool1 = nn.MaxPool2d(2, 2)\n",
        "\n",
        "        self.conv3 = nn.Conv2d(16, 32, 3, padding=1)\n",
        "        self.bn3 = nn.BatchNorm2d(32)\n",
        "        self.dropout3 = nn.Dropout(0.25)\n",
        "\n",
        "        self.conv4 = nn.Conv2d(32, 64, 3, stride=2, padding=1)\n",
        "        self.bn4 = nn.BatchNorm2d(64)\n",
        "        self.dropout4 = nn.Dropout(0.25)\n",
        "\n",
        "        self.pool2 = nn.MaxPool2d(2, 2)\n",
        "\n",
        "        self.conv5 = nn.Conv2d(64, 128, 3)\n",
        "        self.bn5 = nn.BatchNorm2d(128)\n",
        "        self.dropout5 = nn.Dropout(0.25)\n",
        "\n",
        "        self.conv6 = nn.Conv2d(128, 256, 3)\n",
        "        self.conv7 = nn.Conv2d(256, 10, 3)\n",
        "\n",
        "    def forward(self, x):\n",
        "        x = self.conv1(x)\n",
        "        x = self.bn1(x)\n",
        "        x = F.relu(x)\n",
        "        x = self.dropout1(x)\n",
        "\n",
        "        x = self.conv2(x)\n",
        "        x = self.bn2(x)\n",
        "        x = F.relu(x)\n",
        "        x = self.dropout2(x)\n",
        "\n",
        "        x = self.pool1(x)\n",
        "\n",
        "        x = self.conv3(x)\n",
        "        x = self.bn3(x)\n",
        "        x = F.relu(x)\n",
        "        x = self.dropout3(x)\n",
        "\n",
        "        x = self.conv4(x)\n",
        "        x = self.bn4(x)\n",
        "        x = F.relu(x)\n",
        "        x = self.dropout4(x)\n",
        "\n",
        "        x = self.pool2(x)\n",
        "\n",
        "        x = self.conv5(x)\n",
        "        x = self.bn5(x)\n",
        "        x = F.relu(x)\n",
        "        x = self.dropout5(x)\n",
        "\n",
        "        x = self.conv6(x)\n",
        "        x = F.relu(x)\n",
        "\n",
        "        x = self.conv7(x)\n",
        "\n",
        "        x = x.view(-1, 10)\n",
        "        return F.log_softmax(x)\n",
        "                                       \"\"\"\n",
        "\n",
        "\n"
      ]
    },
    {
      "cell_type": "code",
      "execution_count": 107,
      "metadata": {
        "colab": {
          "base_uri": "https://localhost:8080/"
        },
        "id": "xdydjYTZFyi3",
        "outputId": "7c037fd2-7ee4-4a60-ea67-4a23da2d6fc8"
      },
      "outputs": [
        {
          "output_type": "stream",
          "name": "stdout",
          "text": [
            "Looking in indexes: https://pypi.org/simple, https://us-python.pkg.dev/colab-wheels/public/simple/\n",
            "Requirement already satisfied: torchsummary in /usr/local/lib/python3.10/dist-packages (1.5.1)\n",
            "----------------------------------------------------------------\n",
            "        Layer (type)               Output Shape         Param #\n",
            "================================================================\n",
            "            Conv2d-1            [-1, 5, 28, 28]              50\n",
            "       BatchNorm2d-2            [-1, 5, 28, 28]              10\n",
            "           Dropout-3            [-1, 5, 28, 28]               0\n",
            "            Conv2d-4           [-1, 10, 28, 28]             460\n",
            "       BatchNorm2d-5           [-1, 10, 28, 28]              20\n",
            "           Dropout-6           [-1, 10, 28, 28]               0\n",
            "         MaxPool2d-7           [-1, 10, 14, 14]               0\n",
            "            Conv2d-8            [-1, 5, 14, 14]              55\n",
            "            Conv2d-9           [-1, 10, 14, 14]             460\n",
            "      BatchNorm2d-10           [-1, 10, 14, 14]              20\n",
            "          Dropout-11           [-1, 10, 14, 14]               0\n",
            "           Conv2d-12           [-1, 20, 14, 14]           1,820\n",
            "      BatchNorm2d-13           [-1, 20, 14, 14]              40\n",
            "          Dropout-14           [-1, 20, 14, 14]               0\n",
            "        MaxPool2d-15             [-1, 20, 7, 7]               0\n",
            "           Conv2d-16             [-1, 10, 7, 7]             210\n",
            "           Conv2d-17             [-1, 20, 5, 5]           1,820\n",
            "      BatchNorm2d-18             [-1, 20, 5, 5]              40\n",
            "          Dropout-19             [-1, 20, 5, 5]               0\n",
            "           Conv2d-20             [-1, 40, 3, 3]           7,240\n",
            "           Conv2d-21             [-1, 10, 1, 1]           3,610\n",
            "================================================================\n",
            "Total params: 15,855\n",
            "Trainable params: 15,855\n",
            "Non-trainable params: 0\n",
            "----------------------------------------------------------------\n",
            "Input size (MB): 0.00\n",
            "Forward/backward pass size (MB): 0.45\n",
            "Params size (MB): 0.06\n",
            "Estimated Total Size (MB): 0.52\n",
            "----------------------------------------------------------------\n"
          ]
        },
        {
          "output_type": "stream",
          "name": "stderr",
          "text": [
            "<ipython-input-106-14f78782efb9>:73: UserWarning: Implicit dimension choice for log_softmax has been deprecated. Change the call to include dim=X as an argument.\n",
            "  return F.log_softmax(x)\n"
          ]
        }
      ],
      "source": [
        "!pip install torchsummary\n",
        "from torchsummary import summary\n",
        "use_cuda = torch.cuda.is_available()\n",
        "device = torch.device(\"cuda\" if use_cuda else \"cpu\")\n",
        "model = Net().to(device)\n",
        "summary(model, input_size=(1, 28, 28))"
      ]
    },
    {
      "cell_type": "code",
      "execution_count": 88,
      "metadata": {
        "id": "DqTWLaM5GHgH"
      },
      "outputs": [],
      "source": [
        "\n",
        "\n",
        "torch.manual_seed(1)\n",
        "batch_size = 128\n",
        "\n",
        "kwargs = {'num_workers': 1, 'pin_memory': True} if use_cuda else {}\n",
        "train_loader = torch.utils.data.DataLoader(\n",
        "    datasets.MNIST('../data', train=True, download=True,\n",
        "                    transform=transforms.Compose([\n",
        "                        transforms.ToTensor(),\n",
        "                        transforms.Normalize((0.1307,), (0.3081,))\n",
        "                    ])),\n",
        "    batch_size=batch_size, shuffle=True, **kwargs)\n",
        "test_loader = torch.utils.data.DataLoader(\n",
        "    datasets.MNIST('../data', train=False, transform=transforms.Compose([\n",
        "                        transforms.ToTensor(),\n",
        "                        transforms.Normalize((0.1307,), (0.3081,))\n",
        "                    ])),\n",
        "    batch_size=batch_size, shuffle=True, **kwargs)\n"
      ]
    },
    {
      "cell_type": "code",
      "execution_count": 89,
      "metadata": {
        "id": "8fDefDhaFlwH"
      },
      "outputs": [],
      "source": [
        "from tqdm import tqdm\n",
        "def train(model, device, train_loader, optimizer, epoch):\n",
        "    model.train()\n",
        "    pbar = tqdm(train_loader)\n",
        "    for batch_idx, (data, target) in enumerate(pbar):\n",
        "        data, target = data.to(device), target.to(device)\n",
        "        optimizer.zero_grad()\n",
        "        output = model(data)\n",
        "        loss = F.nll_loss(output, target)\n",
        "        loss.backward()\n",
        "        optimizer.step()\n",
        "        pbar.set_description(desc= f'loss={loss.item()} batch_id={batch_idx}')\n",
        "\n",
        "\n",
        "def test(model, device, test_loader):\n",
        "    model.eval()\n",
        "    test_loss = 0\n",
        "    correct = 0\n",
        "    with torch.no_grad():\n",
        "        for data, target in test_loader:\n",
        "            data, target = data.to(device), target.to(device)\n",
        "            output = model(data)\n",
        "            test_loss += F.nll_loss(output, target, reduction='sum').item()  # sum up batch loss\n",
        "            pred = output.argmax(dim=1, keepdim=True)  # get the index of the max log-probability\n",
        "            correct += pred.eq(target.view_as(pred)).sum().item()\n",
        "\n",
        "    test_loss /= len(test_loader.dataset)\n",
        "\n",
        "    print('\\nTest set: Average loss: {:.4f}, Accuracy: {}/{} ({:.0f}%)\\n'.format(\n",
        "        test_loss, correct, len(test_loader.dataset),\n",
        "        100. * correct / len(test_loader.dataset)))"
      ]
    },
    {
      "cell_type": "code",
      "execution_count": 108,
      "metadata": {
        "colab": {
          "base_uri": "https://localhost:8080/",
          "height": 732
        },
        "id": "MMWbLWO6FuHb",
        "outputId": "35497e32-e774-4fa1-b684-a17693f7b4e9"
      },
      "outputs": [
        {
          "output_type": "stream",
          "name": "stderr",
          "text": [
            "  0%|          | 0/469 [00:00<?, ?it/s]<ipython-input-106-14f78782efb9>:73: UserWarning: Implicit dimension choice for log_softmax has been deprecated. Change the call to include dim=X as an argument.\n",
            "  return F.log_softmax(x)\n",
            "loss=0.09903157502412796 batch_id=468: 100%|██████████| 469/469 [00:18<00:00, 24.75it/s]\n"
          ]
        },
        {
          "output_type": "stream",
          "name": "stdout",
          "text": [
            "\n",
            "Test set: Average loss: 0.0817, Accuracy: 9778/10000 (98%)\n",
            "\n"
          ]
        },
        {
          "output_type": "stream",
          "name": "stderr",
          "text": [
            "loss=0.10748493671417236 batch_id=468: 100%|██████████| 469/469 [00:19<00:00, 24.29it/s]\n"
          ]
        },
        {
          "output_type": "stream",
          "name": "stdout",
          "text": [
            "\n",
            "Test set: Average loss: 0.0582, Accuracy: 9845/10000 (98%)\n",
            "\n"
          ]
        },
        {
          "output_type": "stream",
          "name": "stderr",
          "text": [
            "loss=0.0659802183508873 batch_id=468: 100%|██████████| 469/469 [00:19<00:00, 24.02it/s]\n"
          ]
        },
        {
          "output_type": "stream",
          "name": "stdout",
          "text": [
            "\n",
            "Test set: Average loss: 0.0456, Accuracy: 9872/10000 (99%)\n",
            "\n"
          ]
        },
        {
          "output_type": "stream",
          "name": "stderr",
          "text": [
            "loss=0.050014596432447433 batch_id=468: 100%|██████████| 469/469 [00:18<00:00, 25.07it/s]\n"
          ]
        },
        {
          "output_type": "stream",
          "name": "stdout",
          "text": [
            "\n",
            "Test set: Average loss: 0.0398, Accuracy: 9903/10000 (99%)\n",
            "\n"
          ]
        },
        {
          "output_type": "stream",
          "name": "stderr",
          "text": [
            "loss=0.0362907350063324 batch_id=468: 100%|██████████| 469/469 [00:18<00:00, 25.60it/s]\n"
          ]
        },
        {
          "output_type": "stream",
          "name": "stdout",
          "text": [
            "\n",
            "Test set: Average loss: 0.0391, Accuracy: 9894/10000 (99%)\n",
            "\n"
          ]
        },
        {
          "output_type": "stream",
          "name": "stderr",
          "text": [
            "loss=0.026701653376221657 batch_id=468: 100%|██████████| 469/469 [00:19<00:00, 24.42it/s]\n"
          ]
        },
        {
          "output_type": "stream",
          "name": "stdout",
          "text": [
            "\n",
            "Test set: Average loss: 0.0373, Accuracy: 9895/10000 (99%)\n",
            "\n"
          ]
        },
        {
          "output_type": "stream",
          "name": "stderr",
          "text": [
            "loss=0.043267134577035904 batch_id=468: 100%|██████████| 469/469 [00:19<00:00, 24.42it/s]\n"
          ]
        },
        {
          "output_type": "stream",
          "name": "stdout",
          "text": [
            "\n",
            "Test set: Average loss: 0.0356, Accuracy: 9907/10000 (99%)\n",
            "\n"
          ]
        },
        {
          "output_type": "stream",
          "name": "stderr",
          "text": [
            "loss=0.0809820368885994 batch_id=468: 100%|██████████| 469/469 [00:18<00:00, 25.22it/s]\n"
          ]
        },
        {
          "output_type": "stream",
          "name": "stdout",
          "text": [
            "\n",
            "Test set: Average loss: 0.0360, Accuracy: 9913/10000 (99%)\n",
            "\n"
          ]
        },
        {
          "output_type": "stream",
          "name": "stderr",
          "text": [
            "loss=0.07155250757932663 batch_id=468: 100%|██████████| 469/469 [00:18<00:00, 24.84it/s]\n"
          ]
        },
        {
          "output_type": "stream",
          "name": "stdout",
          "text": [
            "\n",
            "Test set: Average loss: 0.0282, Accuracy: 9921/10000 (99%)\n",
            "\n"
          ]
        },
        {
          "output_type": "execute_result",
          "data": {
            "text/plain": [
              "'\\nmodel = Net().to(device)\\noptimizer = optim.SGD(model.parameters(), lr=0.01, momentum=0.9)\\nscheduler = optim.lr_scheduler.StepLR(optimizer, step_size=5, gamma=0.001)\\n\\nfor epoch in range(1, 19):\\n    train(model, device, train_loader, optimizer, epoch)\\n    test(model, device, test_loader)\\n    scheduler.step()\\n                          '"
            ],
            "application/vnd.google.colaboratory.intrinsic+json": {
              "type": "string"
            }
          },
          "metadata": {},
          "execution_count": 108
        }
      ],
      "source": [
        "\n",
        "model = Net().to(device)\n",
        "optimizer = optim.SGD(model.parameters(), lr=0.02, momentum=0.9)\n",
        "\n",
        "for epoch in range(1, 10):\n",
        "    train(model, device, train_loader, optimizer, epoch)\n",
        "    test(model, device, test_loader)\n",
        "                                          \n",
        "\n",
        "\"\"\"\n",
        "model = Net().to(device)\n",
        "optimizer = optim.SGD(model.parameters(), lr=0.01, momentum=0.9)\n",
        "scheduler = optim.lr_scheduler.StepLR(optimizer, step_size=5, gamma=0.001)\n",
        "\n",
        "for epoch in range(1, 19):\n",
        "    train(model, device, train_loader, optimizer, epoch)\n",
        "    test(model, device, test_loader)\n",
        "    scheduler.step()\n",
        "                          \"\"\"\n"
      ]
    },
    {
      "cell_type": "code",
      "execution_count": null,
      "metadata": {
        "id": "So5uk4EkHW6R"
      },
      "outputs": [],
      "source": []
    }
  ],
  "metadata": {
    "accelerator": "GPU",
    "colab": {
      "provenance": [],
      "include_colab_link": true
    },
    "kernelspec": {
      "display_name": "Python 3",
      "name": "python3"
    }
  },
  "nbformat": 4,
  "nbformat_minor": 0
}